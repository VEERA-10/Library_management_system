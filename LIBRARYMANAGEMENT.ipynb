{
  "nbformat": 4,
  "nbformat_minor": 0,
  "metadata": {
    "colab": {
      "provenance": [],
      "authorship_tag": "ABX9TyOO9b/gS+i6UWlkQWGXQ5hC",
      "include_colab_link": true
    },
    "kernelspec": {
      "name": "python3",
      "display_name": "Python 3"
    },
    "language_info": {
      "name": "python"
    }
  },
  "cells": [
    {
      "cell_type": "markdown",
      "metadata": {
        "id": "view-in-github",
        "colab_type": "text"
      },
      "source": [
        "<a href=\"https://colab.research.google.com/github/VEERA-10/Library_management_system/blob/main/LIBRARYMANAGEMENT.ipynb\" target=\"_parent\"><img src=\"https://colab.research.google.com/assets/colab-badge.svg\" alt=\"Open In Colab\"/></a>"
      ]
    },
    {
      "cell_type": "code",
      "source": [
        "import sqlite3\n",
        "from datetime import date, timedelta\n",
        "\n",
        "def create_database():\n",
        "    connection = sqlite3.connect(\"library.db\")\n",
        "    cursor = connection.cursor()\n",
        "\n",
        "    # Create tables if they don't exist\n",
        "    cursor.execute(open(\"schema.sql\", \"r\").read())\n",
        "\n",
        "    connection.commit()\n",
        "    connection.close()\n",
        "\n",
        "def add_book(title, author, genre, quantity_available):\n",
        "    connection = sqlite3.connect(\"library.db\")\n",
        "    cursor = connection.cursor()\n",
        "\n",
        "    cursor.execute(\"INSERT INTO books (title, author, genre, quantity_available) VALUES (?, ?, ?, ?)\",\n",
        "                   (title, author, genre, quantity_available))\n",
        "\n",
        "    connection.commit()\n",
        "    connection.close()\n",
        "\n",
        "def add_patron(name, email):\n",
        "    connection = sqlite3.connect(\"library.db\")\n",
        "    cursor = connection.cursor()\n",
        "\n",
        "    cursor.execute(\"INSERT INTO patrons (name, email) VALUES (?, ?)\", (name, email))\n",
        "\n",
        "    connection.commit()\n",
        "    connection.close()\n",
        "\n",
        "def borrow_book(book_id, patron_id):\n",
        "    connection = sqlite3.connect(\"library.db\")\n",
        "    cursor = connection.cursor()\n",
        "\n",
        "    borrowing_date = date.today()\n",
        "    due_date = borrowing_date + timedelta(days=14)  # Due date is 14 days from borrowing date\n",
        "    cursor.execute(\"INSERT INTO borrowings (book_id, patron_id, borrowing_date, due_date) VALUES (?, ?, ?, ?)\",\n",
        "                   (book_id, patron_id, borrowing_date, due_date))\n",
        "\n",
        "    # Update quantity_available in books table\n",
        "    cursor.execute(\"UPDATE books SET quantity_available = quantity_available - 1 WHERE book_id = ?\", (book_id,))\n",
        "\n",
        "    connection.commit()\n",
        "    connection.close()\n",
        "\n",
        "def return_book(borrowing_id):\n",
        "    connection = sqlite3.connect(\"library.db\")\n",
        "    cursor = connection.cursor()\n",
        "\n",
        "    return_date = date.today()\n",
        "    cursor.execute(\"UPDATE borrowings SET return_date = ? WHERE borrowing_id = ?\", (return_date, borrowing_id))\n",
        "\n",
        "    # Calculate overdue charges, if any\n",
        "    cursor.execute(\"SELECT due_date FROM borrowings WHERE borrowing_id = ?\", (borrowing_id,))\n",
        "    due_date = cursor.fetchone()[0]\n",
        "    days_late = max((return_date - due_date).days, 0)\n",
        "    overdue_charge = 0.25 * days_late\n",
        "    cursor.execute(\"UPDATE borrowings SET overdue_charge = ? WHERE borrowing_id = ?\", (overdue_charge, borrowing_id))\n",
        "\n",
        "    # Update quantity_available in books table\n",
        "    cursor.execute(\"\"\"\n",
        "        UPDATE books\n",
        "        SET quantity_available = quantity_available + 1\n",
        "        WHERE book_id = (SELECT book_id FROM borrowings WHERE borrowing_id = ?)\n",
        "    \"\"\", (borrowing_id,))\n",
        "\n",
        "    connection.commit()\n",
        "    connection.close()\n",
        "\n",
        "if __name__ == \"__main__\":\n",
        "    create_database()\n",
        "\n",
        "    # Example usage\n",
        "    add_book(\"Book A\", \"Author X\", \"Fiction\", 5)\n",
        "    add_patron(\"John Doe\", \"john@example.com\")\n",
        "    borrow_book(1, 1)\n",
        "    return_book(1)\n"
      ],
      "metadata": {
        "id": "iXF2md1U8Xu3"
      },
      "execution_count": null,
      "outputs": []
    }
  ]
}